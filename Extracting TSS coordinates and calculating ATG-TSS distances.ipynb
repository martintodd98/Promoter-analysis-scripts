{
 "cells": [
  {
   "cell_type": "markdown",
   "metadata": {},
   "source": [
    "## Extracting TSS coordinates to calculate TSS-ATG distance distributions\n",
    "\n",
    "This notebook explains how to extract  TSS coordinates from BED files and write the coordinates into a CSV file. The CSV file generated can be manipulated for subsequent analysis, for instance to calculate the distance distribution between TSSs and ATG start codons."
   ]
  },
  {
   "cell_type": "markdown",
   "metadata": {},
   "source": [
    "### Imports"
   ]
  },
  {
   "cell_type": "code",
   "execution_count": null,
   "metadata": {},
   "outputs": [],
   "source": [
    "from Bio import SeqIO"
   ]
  },
  {
   "cell_type": "markdown",
   "metadata": {},
   "source": [
    "### Extracting a list of TSS coordinates for each chromosome"
   ]
  },
  {
   "cell_type": "markdown",
   "metadata": {},
   "source": [
    "The TSS map that we used (YeasTTS) contains all TSS coordinates in BED format. We downloaded the BED file for each chromosome and saved the file as \"TSSs_chrA.bed\", \"TSSs_chrB.bed\", \"TSSs_chrC.bed\" etc. From this BED file we then extracted a list of TSS coordinates for each chromosome using the code below."
   ]
  },
  {
   "cell_type": "code",
   "execution_count": null,
   "metadata": {},
   "outputs": [],
   "source": [
    "def get_TSSs(file):\n",
    "    TSSs=[]\n",
    "    \n",
    "    for line in open(file,\"r\"):\n",
    "        splits=line.split(\"\\t\")\n",
    "        try:\n",
    "            if splits[5]=='+':\n",
    "                TSS_location=int(splits[1])\n",
    "                TSSs.append([TSS_location, 1])\n",
    "        except:\n",
    "            pass\n",
    "    for line in open(file,\"r\"):\n",
    "        splits=line.split(\"\\t\")\n",
    "        try:\n",
    "            if splits[5]=='-':\n",
    "                TSS_location=int(splits[2])\n",
    "                TSSs.append([TSS_location, -1])\n",
    "        except:\n",
    "            pass\n",
    "    return TSSs\n",
    "        \n",
    "for chr in [\"chrA\", \"chrB\", \"chrC\", \"chrD\", \"chrE\", \"chrF\"]:\n",
    "    TSSs = get_TSSs(\"TSSs_\"+chr+\".bed\")"
   ]
  },
  {
   "cell_type": "markdown",
   "metadata": {},
   "source": [
    "### Define find current closest TSS"
   ]
  },
  {
   "cell_type": "markdown",
   "metadata": {},
   "source": [
    "We next define a function that detects the closest TSS to the start codon of each gene. This function only searches for TSSs that are located within 2500bp of the ATG. Crucially, this function only assigns TSSs to start codons that have the same strandedness.   "
   ]
  },
  {
   "cell_type": "code",
   "execution_count": null,
   "metadata": {},
   "outputs": [],
   "source": [
    "def current_closest_TSS(strand, loc_startcodon):\n",
    "    minimum=100000000\n",
    "    \n",
    "    current_closest_TSS = None\n",
    "    \n",
    "    for TSS, TSS_strand in TSSs:\n",
    "        if strand==1 and loc_startcodon-TSS <= minimum and loc_startcodon-TSS > 0 and TSS_strand==strand and loc_startcodon-TSS <= 2500:\n",
    "            current_closest_TSS=TSS\n",
    "            minimum=loc_startcodon-TSS\n",
    "\n",
    "        if strand==-1 and TSS-loc_startcodon <= minimum and TSS-loc_startcodon > 0 and TSS_strand==strand and TSS-loc_startcodon <= 2500:\n",
    "            current_closest_TSS=TSS\n",
    "            minimum=TSS-loc_startcodon\n",
    "            \n",
    "    return current_closest_TSS, minimum"
   ]
  },
  {
   "cell_type": "markdown",
   "metadata": {},
   "source": [
    "### Open CSV file"
   ]
  },
  {
   "cell_type": "markdown",
   "metadata": {},
   "source": [
    "The next step involves creating a CSV file into which we will write any information of interest, e.g gene name, TSS locations and any distances of interest"
   ]
  },
  {
   "cell_type": "code",
   "execution_count": null,
   "metadata": {},
   "outputs": [],
   "source": [
    "file_handle=open(\"Closest_TSS.csv\", \"w\")\n",
    "file_handle.write(\"GENE_NAME, CHROMOSOME, STRAND, START_CODON_LOC, TSS_LOC, TSS-TLS_DISTANCE, SEQUENCE\\n\")"
   ]
  },
  {
   "cell_type": "markdown",
   "metadata": {},
   "source": [
    "### Write information into CSV file\n",
    "\n",
    "To calculate the distance between TSS-ATG, we must first extract the ATG coordinates from an online database. We obtained coordinates from Genbank accession (GCA_001761485.1). Crucially, for the code below to work, each genbank file must be saved with the following format: 'Yali_chrA.gbk', 'Yali_chrB.gbk' etc. "
   ]
  },
  {
   "cell_type": "code",
   "execution_count": null,
   "metadata": {},
   "outputs": [],
   "source": [
    "# Loop over each chromosome\n",
    "for chr in [\"chrA\", \"chrB\", \"chrC\", \"chrD\", \"chrE\", \"chrF\"]:\n",
    "    TSSs = get_TSSs(\"TSSs_\"+chr+\".bed\")\n",
    "    seq_features=next(SeqIO.parse(\"Yali_\"+chr+\".gbk\", \"genbank\")).features\n",
    "    chromosome_sequence=str(next(SeqIO.parse(\"Yali_\"+chr+\".gbk\", \"genbank\")).seq)\n",
    "    \n",
    "    for feature in seq_features:\n",
    "        if feature.type==\"CDS\":\n",
    "            strand=feature.location.strand \n",
    "            \n",
    "            # Find TSS upstream of CDS for reverse strand\n",
    "            if strand==-1:\n",
    "                TSS, dist = current_closest_TSS(strand, feature.location.end)\n",
    "                if TSS is not None:\n",
    "                    file_handle.write(feature.qualifiers[\"locus_tag\"][0]+\",\"+chr+\",-,\"+str(feature.location.end)+\",\"+str(TSS)+\",\"+str(dist)+\",\"+chromosome_sequence[TSS:TSS+2500]+\"\\n\")\n",
    "                \n",
    "            # Find TSS upstream of CDS for forward strand\n",
    "            else:\n",
    "                TSS, dist = current_closest_TSS(strand, feature.location.start)\n",
    "                if TSS is not None:\n",
    "                    file_handle.write(feature.qualifiers[\"locus_tag\"][0]+\",\"+chr+\",+,\"+str(feature.location.start)+\",\"+str(TSS)+\",\"+str(dist)+\",\"+chromosome_sequence[TSS-2500:TSS]+\"\\n\")\n",
    "        "
   ]
  },
  {
   "cell_type": "markdown",
   "metadata": {},
   "source": [
    "To analyse a set of genes (e.g top 500 expressed genes) create a list of genes of interest. Next specify in an IF statement to only retain information if gene_name is in genes_of interest"
   ]
  },
  {
   "cell_type": "code",
   "execution_count": null,
   "metadata": {},
   "outputs": [],
   "source": [
    "e.g     for feature in seq_features:\n",
    "        if feature.type==\"CDS\":\n",
    "            gene_name=feature.qualifiers[\"locus_tag\"][0]\n",
    "            if gene_name in genes_of_interest2:\n",
    "                strand=feature.location.strand "
   ]
  },
  {
   "cell_type": "markdown",
   "metadata": {},
   "source": [
    "### Plot histogram of TSS-ATG distance "
   ]
  },
  {
   "cell_type": "code",
   "execution_count": null,
   "metadata": {},
   "outputs": [],
   "source": [
    "import matplotlib.pyplot as plt\n",
    "import pandas as pd\n",
    "import seaborn as sns\n",
    "plt.style.use('seaborn-dark-palette')\n",
    "\n",
    "df = pd.read_csv(\"Closest_TSS.csv\")\n",
    "histogram = df[df.columns.values[5]]\n",
    "plt.hist(histogram,bins=50)\n",
    "plt.xlabel(\"TSS-ATG distance (bp)\",color=\"black\", fontsize=14 )\n",
    "plt.ylabel(\"Frequency\",color=\"black\", fontsize=14)\n",
    "plt.xticks(fontsize=13, color='black')\n",
    "plt.yticks(fontsize=13, color='black')\n",
    "plt.show()"
   ]
  }
 ],
 "metadata": {
  "kernelspec": {
   "display_name": "Python 3",
   "language": "python",
   "name": "python3"
  },
  "language_info": {
   "codemirror_mode": {
    "name": "ipython",
    "version": 3
   },
   "file_extension": ".py",
   "mimetype": "text/x-python",
   "name": "python",
   "nbconvert_exporter": "python",
   "pygments_lexer": "ipython3",
   "version": "3.7.3"
  }
 },
 "nbformat": 4,
 "nbformat_minor": 2
}
