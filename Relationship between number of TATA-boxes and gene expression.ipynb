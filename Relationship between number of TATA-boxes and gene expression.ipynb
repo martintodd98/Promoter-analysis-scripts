{
 "cells": [
  {
   "cell_type": "markdown",
   "metadata": {},
   "source": [
    "## Relationship between number of TATA-boxes and gene expression "
   ]
  },
  {
   "cell_type": "markdown",
   "metadata": {},
   "source": [
    "This notebook explains how to extract the number of predicted TATA boxes per gene from a CSV file. This code will only work if the CSV file has a specific format. The CSV file must contain the ElemeNT results in the following order; column 1: Elements found, column 2: Start position, column 3: Sequence, column 4: PWM score, column 5: Consensus match.\n",
    "\n",
    "We also show how to extract the normalised FPKM / log2 fold change values directly from .txt files generated in Galaxy. Both the number of TATA-boxes and normalised FPKM / log2 fold change values are stored in separate dictionaries. We illustrate how to plot a correlation graph between the two dictionaries of interest."
   ]
  },
  {
   "cell_type": "markdown",
   "metadata": {},
   "source": [
    "### Imports"
   ]
  },
  {
   "cell_type": "code",
   "execution_count": null,
   "metadata": {},
   "outputs": [],
   "source": [
    "import matplotlib.pyplot as plt\n",
    "from Bio import SeqIO\n",
    "import pandas as pd\n",
    "from pandas import DataFrame"
   ]
  },
  {
   "cell_type": "markdown",
   "metadata": {},
   "source": [
    "### Extract no. TATA box hits per gene"
   ]
  },
  {
   "cell_type": "code",
   "execution_count": null,
   "metadata": {},
   "outputs": [],
   "source": [
    "file_name=\"Predicted_TATA_hits.csv\"\n",
    "file_handle=open(file_name, \"r\")\n",
    "dict_hits={}\n",
    "\n",
    "#N.B replace YALI_A00014g with the first gene ID/name found in your csv file\n",
    "for line in file_handle:\n",
    "    if \"YALI\" in line:\n",
    "        if not \"YALI1_A00014g\" in line:\n",
    "            dict_hits[current_gene_name] = current_count\n",
    "\n",
    "        current_gene_name=line[1:-2].replace(\",\",\"\")\n",
    "        current_count=0\n",
    "    if line.startswith(\"TATA box\"):\n",
    "            current_count+=1\n",
    "\n",
    "dict_hits[current_gene_name] = current_count"
   ]
  },
  {
   "cell_type": "markdown",
   "metadata": {},
   "source": [
    "### Extract gene expression values"
   ]
  },
  {
   "cell_type": "code",
   "execution_count": null,
   "metadata": {},
   "outputs": [],
   "source": [
    "# This text file was generated from the Cufflinks tool in Galaxy \n",
    "file_name_expression=\"Expression.txt\"\n",
    "\n",
    "file_handle_expression=open(file_name_expression, \"r\")\n",
    "dict_expression={}\n",
    "\n",
    "for line in file_handle_expression:\n",
    "    splits=line.split(\"\\t\")\n",
    "    # In our .txt file, the gene name is stored in column 5. Change number in [] accordingly.\n",
    "    gene_name=splits[4]\n",
    "    # In our .txt file, the expression value (Normalised FPKM) is stored in column 10. Change number in [] accordingly.\n",
    "    expression_level=float(splits[9])\n",
    "    if \",\" in gene_name:\n",
    "        for sub_gene in gene_name.split(\",\"):\n",
    "            dict_expression[sub_gene]=expression_level\n",
    "    \n",
    "    else:\n",
    "        dict_expression[gene_name]=expression_level"
   ]
  },
  {
   "cell_type": "markdown",
   "metadata": {},
   "source": [
    "### Extract log2 fold change values"
   ]
  },
  {
   "cell_type": "code",
   "execution_count": null,
   "metadata": {},
   "outputs": [],
   "source": [
    "# This text file was generated from the Cufflinks tool in Galaxy \n",
    "file_name_DE=\"DE genes.txt\"\n",
    "\n",
    "file_handle_DE=open(file_name_DE, \"r\")\n",
    "dict_DE={}\n",
    "\n",
    "for line in file_handle_DE:\n",
    "    splits=line.split(\"\\t\")\n",
    "    # In our .txt file, the gene name is stored in column 3. Change number in [] depending accordingly.\n",
    "    gene_name=splits[2]\n",
    "    # In our .txt file, the log2 fold change is stored in column 10. Change number in [] depending accordingly.\n",
    "    DE=float(splits[9])\n",
    "    if \",\" in gene_name:\n",
    "        for sub_gene in gene_name.split(\",\"):\n",
    "            dict_DE[sub_gene]=DE\n",
    "    \n",
    "    else:\n",
    "        dict_DE[gene_name]=DE"
   ]
  },
  {
   "cell_type": "markdown",
   "metadata": {},
   "source": [
    "### Plot correlation between gene expression level and TATA box abundance"
   ]
  },
  {
   "cell_type": "code",
   "execution_count": null,
   "metadata": {},
   "outputs": [],
   "source": [
    "for gene_name in dict_hits.keys():\n",
    "    try: \n",
    "        plt.scatter(dict_hits[gene_name], dict_expression[gene_name])\n",
    "    except:\n",
    "        pass\n",
    "\n",
    "plt.xlim(-0.5, 8.5)\n",
    "plt.ylim(0,22000)\n",
    "plt.xlabel(\"No. TATA boxes\",color=\"black\", fontsize=14 )\n",
    "plt.ylabel(\"Normalised FPKM\",color=\"black\", fontsize=14)\n",
    "plt.xticks(fontsize=13, color='black')\n",
    "plt.yticks(fontsize=13, color='black')\n",
    "plt.suptitle('Relationship between no. of TATA-boxes and expression level', fontsize=16, fontweight='bold', color='black')\n",
    "plt.show()"
   ]
  },
  {
   "cell_type": "markdown",
   "metadata": {},
   "source": [
    "### Plot correlation between log2 fold change and TATA box abundance"
   ]
  },
  {
   "cell_type": "code",
   "execution_count": null,
   "metadata": {},
   "outputs": [],
   "source": [
    "for gene_name in dict_hits.keys():\n",
    "    try: \n",
    "        plt.scatter(dict_hits[gene_name], dict_DE[gene_name])\n",
    "    except:\n",
    "        pass\n",
    "\n",
    "plt.xlim(-0.5,8.5)\n",
    "plt.xlabel(\"No. TATA boxes\",color=\"black\", fontsize=14 )\n",
    "plt.ylabel(\"Log2 Foldchange\",color=\"black\", fontsize=14)\n",
    "plt.xticks(fontsize=13, color='black')\n",
    "plt.yticks(fontsize=13, color='black')\n",
    "plt.suptitle('Relationship between no. of TATA-boxes and gene differential expression', fontsize=16, fontweight='bold', color='black')\n",
    "plt.show()"
   ]
  }
 ],
 "metadata": {
  "kernelspec": {
   "display_name": "Python 3",
   "language": "python",
   "name": "python3"
  },
  "language_info": {
   "codemirror_mode": {
    "name": "ipython",
    "version": 3
   },
   "file_extension": ".py",
   "mimetype": "text/x-python",
   "name": "python",
   "nbconvert_exporter": "python",
   "pygments_lexer": "ipython3",
   "version": "3.7.3"
  }
 },
 "nbformat": 4,
 "nbformat_minor": 2
}
