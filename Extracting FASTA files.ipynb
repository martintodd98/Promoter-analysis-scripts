{
 "cells": [
  {
   "cell_type": "markdown",
   "metadata": {},
   "source": [
    "# Extracting fasta files"
   ]
  },
  {
   "cell_type": "markdown",
   "metadata": {},
   "source": [
    "This notebook explains how to extract FASTA files  for a desired region in the  genome. The code we provide extracts the 500bp region upstream of the closest TSS to each gene. However, these limits can be changed to extract FASTA files of different length."
   ]
  },
  {
   "cell_type": "markdown",
   "metadata": {},
   "source": [
    "### Imports"
   ]
  },
  {
   "cell_type": "code",
   "execution_count": 1,
   "metadata": {},
   "outputs": [],
   "source": [
    "from Bio import SeqIO"
   ]
  },
  {
   "cell_type": "markdown",
   "metadata": {},
   "source": [
    "### Write FASTA file"
   ]
  },
  {
   "cell_type": "code",
   "execution_count": null,
   "metadata": {},
   "outputs": [],
   "source": [
    "# Write FASTA file for regions upstream of TSS\n",
    "file_handle_TSS=open(\"500bp_upstream_TSS.FASTA\", \"w\")"
   ]
  },
  {
   "cell_type": "markdown",
   "metadata": {},
   "source": [
    "### Extract a list of TSS coordinates in BED format for each chromosome"
   ]
  },
  {
   "cell_type": "markdown",
   "metadata": {},
   "source": [
    "The TSS map that we used (YeasTTS) contains all TSS coordinates in BED format. We downloaded the BED file for each chromosome from YeastTSS and saved the file as \"TSSs_chrA.bed\", \"TSSs_chrB.bed\", \"TSSs_chrC.bed\" etc. From this BED file we then extracted a list of TSS coordinates for each chromosome using the code below."
   ]
  },
  {
   "cell_type": "code",
   "execution_count": null,
   "metadata": {},
   "outputs": [],
   "source": [
    "def get_TSSs(file):\n",
    "    TSSs=[]\n",
    "    \n",
    "    for line in open(file,\"r\"):\n",
    "        splits=line.split(\"\\t\")\n",
    "        try:\n",
    "            if splits[5]=='+':\n",
    "                TSS_location=int(splits[1])\n",
    "                TSSs.append([TSS_location, 1])\n",
    "        except:\n",
    "            pass\n",
    "    for line in open(file,\"r\"):\n",
    "        splits=line.split(\"\\t\")\n",
    "        try:\n",
    "            if splits[5]=='-':\n",
    "                TSS_location=int(splits[2])\n",
    "                TSSs.append([TSS_location, -1])\n",
    "        except:\n",
    "            pass\n",
    "    return TSSs\n",
    "        \n",
    "for chr in [\"chrA\", \"chrB\", \"chrC\", \"chrD\", \"chrE\", \"chrF\"]:\n",
    "    TSSs = get_TSSs(\"TSSs_\"+chr+\".bed\")"
   ]
  },
  {
   "cell_type": "markdown",
   "metadata": {},
   "source": [
    "### Define find current closest TSS"
   ]
  },
  {
   "cell_type": "markdown",
   "metadata": {},
   "source": [
    "We next define a function that detects the closest TSS to the start codon of each gene. This function only searches for TSSs that are located within 2500bp of the ATG. Crucially, this function only assigns TSSs to start codons that have the same strandedness.   "
   ]
  },
  {
   "cell_type": "code",
   "execution_count": null,
   "metadata": {},
   "outputs": [],
   "source": [
    "def current_closest_TSS(strand, loc_startcodon):\n",
    "    minimum=100000000\n",
    "    \n",
    "    current_closest_TSS = None\n",
    "    \n",
    "    for TSS, TSS_strand in TSSs:\n",
    "        # Changing the value in 'loc_startcodon-TSS <= 2500' will change the maximum search distance \n",
    "        if strand==1 and loc_startcodon-TSS <= minimum and loc_startcodon-TSS > 0 and TSS_strand==strand and loc_startcodon-TSS <= 2500:\n",
    "            current_closest_TSS=TSS\n",
    "            minimum=loc_startcodon-TSS\n",
    "\n",
    "        if strand==-1 and TSS-loc_startcodon <= minimum and TSS-loc_startcodon > 0 and TSS_strand==strand and TSS-loc_startcodon <= 2500:\n",
    "            current_closest_TSS=TSS\n",
    "            minimum=TSS-loc_startcodon\n",
    "            \n",
    "    return current_closest_TSS, minimum"
   ]
  },
  {
   "cell_type": "markdown",
   "metadata": {},
   "source": [
    "### Write nucleotide sequence into FASTA file"
   ]
  },
  {
   "cell_type": "markdown",
   "metadata": {},
   "source": [
    "To write the sequence into a FASTA file, we must first extract the ATG coordinates from an online database. Although we are extracting the sequence upstream of the TSS, we need the ATG coordinates for each gene so we can identify the closest TSS to each gene. We obtained ATG coordinates from Genbank accession (GCA_001761485.1). Crucially, for the code below to work, each genbank file must be saved with the following format: 'Yali_chrA.gbk', 'Yali_chrB.gbk' etc."
   ]
  },
  {
   "cell_type": "code",
   "execution_count": null,
   "metadata": {},
   "outputs": [],
   "source": [
    "# Loop over each chromosome\n",
    "for chr in [\"chrA\", \"chrB\", \"chrC\", \"chrD\", \"chrE\", \"chrF\"]:\n",
    "    seq_features=next(SeqIO.parse(\"Yali_\"+chr+\".gbk\", \"genbank\")).features\n",
    "    chromosome=str(next(SeqIO.parse(\"Yali_\"+chr+\".gbk\", \"genbank\")).seq) \n",
    "    for feature in seq_features:\n",
    "        if feature.type==\"CDS\":\n",
    "            if feature.location.strand==1:\n",
    "                start=feature.location.start\n",
    "                TSS, dist = current_closest_TSS(feature.location.strand, start)\n",
    "                if TSS is not None:\n",
    "                    # To extract different length of DNA, change these limits. e.g to extract 200bp upstream and 100bp downstream of TSS use [TSS-200:TSS+100]  \n",
    "                    region=chromosome[TSS-500:TSS]\n",
    "                    file_handle_TSS.write(\">\" + gene_name + \"\\n\")\n",
    "                    file_handle_TSS.write(region+\"\\n\")\n",
    "\n",
    "            elif feature.location.strand==-1:\n",
    "                end=feature.location.end\n",
    "                TSS, dist = current_closest_TSS(feature.location.strand, end)\n",
    "                if TSS is not None: \n",
    "                    # To extract different length of DNA, change these limits. e.g to extract 200bp upstream and 100bp downstream of TSS use [TSS-100:TSS+200]\n",
    "                    region=chromosome[TSS:TSS+500]\n",
    "                    file_handle_TSS.write(\">\" + gene_name + \"\\n\")\n",
    "                    file_handle_TSS.write(region+\"\\n\")\n",
    "file_handle_TSS.close()"
   ]
  }
 ],
 "metadata": {
  "kernelspec": {
   "display_name": "Python 3",
   "language": "python",
   "name": "python3"
  },
  "language_info": {
   "codemirror_mode": {
    "name": "ipython",
    "version": 3
   },
   "file_extension": ".py",
   "mimetype": "text/x-python",
   "name": "python",
   "nbconvert_exporter": "python",
   "pygments_lexer": "ipython3",
   "version": "3.7.3"
  }
 },
 "nbformat": 4,
 "nbformat_minor": 2
}
